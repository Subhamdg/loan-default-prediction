{
  "nbformat": 4,
  "nbformat_minor": 0,
  "metadata": {
    "colab": {
      "name": "Loan_default_prediction.ipynb",
      "provenance": []
    },
    "kernelspec": {
      "name": "python3",
      "display_name": "Python 3"
    }
  },
  "cells": [
    {
      "cell_type": "markdown",
      "metadata": {
        "id": "RkmZ_Sgo6b1B"
      },
      "source": [
        "# 0. Overview\r\n",
        "\r\n",
        "The problem statement is to determine whether a loan will default, as well as the loss incurred if it does default. Unlike traditional finance-based approaches to this problem, where one distinguishes between good or bad counterparties in a binary way, we seek to anticipate and incorporate both the default and the severity of the losses that result. In doing so, we are building a bridge between traditional banking, where we are looking at reducing the consumption of economic capital, to an asset-management perspective, where we optimize on the risk to the financial investor.\r\n",
        "\r\n",
        "This competition is sponsored by researchers at Imperial College London.\r\n",
        "\r\n",
        "The Dataset Contains two files:\r\n",
        "\r\n",
        "* `train_v2.csv` - This is the training set of shape (105471, 771)\r\n",
        "\r\n",
        "* `test_v2.csv` - This is the test set of shape (210944, 770)"
      ]
    },
    {
      "cell_type": "markdown",
      "metadata": {
        "id": "fRHvZz-77hPK"
      },
      "source": [
        "# 1. Environment Set-up and Dataset downloading"
      ]
    },
    {
      "cell_type": "code",
      "metadata": {
        "colab": {
          "base_uri": "https://localhost:8080/"
        },
        "id": "-taKTUzqomU_",
        "outputId": "7241c374-0215-478e-aed2-a6e5fc2c3971"
      },
      "source": [
        "!cp kaggle.json ~/.kaggle/\r\n",
        "!kaggle competitions download -c loan-default-prediction"
      ],
      "execution_count": 2,
      "outputs": [
        {
          "output_type": "stream",
          "text": [
            "Warning: Your Kaggle API key is readable by other users on this system! To fix this, you can run 'chmod 600 /root/.kaggle/kaggle.json'\n",
            "Warning: Looks like you're using an outdated API Version, please consider updating (server 1.5.10 / client 1.5.4)\n",
            "Downloading test_v2.csv.zip to /content\n",
            " 97% 387M/398M [00:04<00:00, 119MB/s]\n",
            "100% 398M/398M [00:04<00:00, 88.1MB/s]\n",
            "Downloading train_v2.csv.zip to /content\n",
            " 95% 174M/183M [00:02<00:00, 57.9MB/s]\n",
            "100% 183M/183M [00:02<00:00, 84.4MB/s]\n",
            "Downloading sampleSubmission.csv.zip to /content\n",
            "  0% 0.00/457k [00:00<?, ?B/s]\n",
            "100% 457k/457k [00:00<00:00, 133MB/s]\n"
          ],
          "name": "stdout"
        }
      ]
    },
    {
      "cell_type": "code",
      "metadata": {
        "colab": {
          "base_uri": "https://localhost:8080/"
        },
        "id": "LzvANVpQsRh4",
        "outputId": "93b95f29-a756-4fd4-fea5-7f46bd158fbe"
      },
      "source": [
        "!mkdir datasets\r\n",
        "!unzip /content/test_v2.csv.zip -d /content/datasets/\r\n",
        "!unzip /content/train_v2.csv.zip -d /content/datasets/"
      ],
      "execution_count": 3,
      "outputs": [
        {
          "output_type": "stream",
          "text": [
            "Archive:  /content/test_v2.csv.zip\n",
            "  inflating: /content/datasets/test_v2.csv  \n",
            "Archive:  /content/train_v2.csv.zip\n",
            "  inflating: /content/datasets/train_v2.csv  \n"
          ],
          "name": "stdout"
        }
      ]
    },
    {
      "cell_type": "markdown",
      "metadata": {
        "id": "GTBE8CfF7sJn"
      },
      "source": [
        "# 2. Necessary Imports"
      ]
    },
    {
      "cell_type": "code",
      "metadata": {
        "id": "tGwvXBVQnHi7"
      },
      "source": [
        "import pandas as pd\r\n",
        "import numpy as np\r\n",
        "import matplotlib.pyplot as plt\r\n",
        "import seaborn as sn\r\n",
        "from scipy.stats import norm\r\n",
        "%matplotlib inline"
      ],
      "execution_count": 2,
      "outputs": []
    },
    {
      "cell_type": "code",
      "metadata": {
        "id": "ZzMEo7GwGwq7"
      },
      "source": [
        "# To stop warning from showing\r\n",
        "import warnings\r\n",
        "warnings.filterwarnings('ignore')"
      ],
      "execution_count": 3,
      "outputs": []
    },
    {
      "cell_type": "markdown",
      "metadata": {
        "id": "TqFxTkCp7-fY"
      },
      "source": [
        "# 3. Preprocessing"
      ]
    },
    {
      "cell_type": "markdown",
      "metadata": {
        "id": "ODZlswEb8CCT"
      },
      "source": [
        "## 3.1 Data-set Loading"
      ]
    },
    {
      "cell_type": "code",
      "metadata": {
        "colab": {
          "base_uri": "https://localhost:8080/"
        },
        "id": "BkZtsZ1mqpKF",
        "outputId": "59ccd3fc-1ff6-450f-d84a-2c7795d29bfe"
      },
      "source": [
        "train = pd.read_csv('/content/datasets/train_v2.csv')\r\n",
        "test = pd.read_csv('/content/datasets/test_v2.csv')\r\n",
        "\r\n",
        "train.shape, test.shape"
      ],
      "execution_count": 4,
      "outputs": [
        {
          "output_type": "execute_result",
          "data": {
            "text/plain": [
              "((105471, 771), (210944, 770))"
            ]
          },
          "metadata": {
            "tags": []
          },
          "execution_count": 4
        }
      ]
    },
    {
      "cell_type": "code",
      "metadata": {
        "colab": {
          "base_uri": "https://localhost:8080/",
          "height": 251
        },
        "id": "sY62so4tzKfq",
        "outputId": "db1637e2-7c32-4eb6-f572-6a17216fc1b7"
      },
      "source": [
        "train.head(5)"
      ],
      "execution_count": 5,
      "outputs": [
        {
          "output_type": "execute_result",
          "data": {
            "text/html": [
              "<div>\n",
              "<style scoped>\n",
              "    .dataframe tbody tr th:only-of-type {\n",
              "        vertical-align: middle;\n",
              "    }\n",
              "\n",
              "    .dataframe tbody tr th {\n",
              "        vertical-align: top;\n",
              "    }\n",
              "\n",
              "    .dataframe thead th {\n",
              "        text-align: right;\n",
              "    }\n",
              "</style>\n",
              "<table border=\"1\" class=\"dataframe\">\n",
              "  <thead>\n",
              "    <tr style=\"text-align: right;\">\n",
              "      <th></th>\n",
              "      <th>id</th>\n",
              "      <th>f1</th>\n",
              "      <th>f2</th>\n",
              "      <th>f3</th>\n",
              "      <th>f4</th>\n",
              "      <th>f5</th>\n",
              "      <th>f6</th>\n",
              "      <th>f7</th>\n",
              "      <th>f8</th>\n",
              "      <th>f9</th>\n",
              "      <th>f10</th>\n",
              "      <th>f13</th>\n",
              "      <th>f14</th>\n",
              "      <th>f15</th>\n",
              "      <th>f16</th>\n",
              "      <th>f17</th>\n",
              "      <th>f18</th>\n",
              "      <th>f19</th>\n",
              "      <th>f20</th>\n",
              "      <th>f21</th>\n",
              "      <th>f22</th>\n",
              "      <th>f23</th>\n",
              "      <th>f24</th>\n",
              "      <th>f25</th>\n",
              "      <th>f26</th>\n",
              "      <th>f27</th>\n",
              "      <th>f28</th>\n",
              "      <th>f29</th>\n",
              "      <th>f30</th>\n",
              "      <th>f31</th>\n",
              "      <th>f32</th>\n",
              "      <th>f33</th>\n",
              "      <th>f34</th>\n",
              "      <th>f35</th>\n",
              "      <th>f36</th>\n",
              "      <th>f37</th>\n",
              "      <th>f38</th>\n",
              "      <th>f39</th>\n",
              "      <th>f40</th>\n",
              "      <th>f41</th>\n",
              "      <th>...</th>\n",
              "      <th>f740</th>\n",
              "      <th>f741</th>\n",
              "      <th>f742</th>\n",
              "      <th>f743</th>\n",
              "      <th>f744</th>\n",
              "      <th>f745</th>\n",
              "      <th>f746</th>\n",
              "      <th>f747</th>\n",
              "      <th>f748</th>\n",
              "      <th>f749</th>\n",
              "      <th>f750</th>\n",
              "      <th>f751</th>\n",
              "      <th>f752</th>\n",
              "      <th>f753</th>\n",
              "      <th>f754</th>\n",
              "      <th>f755</th>\n",
              "      <th>f756</th>\n",
              "      <th>f757</th>\n",
              "      <th>f758</th>\n",
              "      <th>f759</th>\n",
              "      <th>f760</th>\n",
              "      <th>f761</th>\n",
              "      <th>f762</th>\n",
              "      <th>f763</th>\n",
              "      <th>f764</th>\n",
              "      <th>f765</th>\n",
              "      <th>f766</th>\n",
              "      <th>f767</th>\n",
              "      <th>f768</th>\n",
              "      <th>f769</th>\n",
              "      <th>f770</th>\n",
              "      <th>f771</th>\n",
              "      <th>f772</th>\n",
              "      <th>f773</th>\n",
              "      <th>f774</th>\n",
              "      <th>f775</th>\n",
              "      <th>f776</th>\n",
              "      <th>f777</th>\n",
              "      <th>f778</th>\n",
              "      <th>loss</th>\n",
              "    </tr>\n",
              "  </thead>\n",
              "  <tbody>\n",
              "    <tr>\n",
              "      <th>0</th>\n",
              "      <td>1</td>\n",
              "      <td>126</td>\n",
              "      <td>10</td>\n",
              "      <td>0.686842</td>\n",
              "      <td>1100</td>\n",
              "      <td>3</td>\n",
              "      <td>13699</td>\n",
              "      <td>7201.0</td>\n",
              "      <td>4949.0</td>\n",
              "      <td>126.75</td>\n",
              "      <td>126.03</td>\n",
              "      <td>7</td>\n",
              "      <td>0.7607</td>\n",
              "      <td>0.7542</td>\n",
              "      <td>612922</td>\n",
              "      <td>0.7236</td>\n",
              "      <td>0.7236</td>\n",
              "      <td>0.5171</td>\n",
              "      <td>0.7236</td>\n",
              "      <td>0.8476</td>\n",
              "      <td>0.7876</td>\n",
              "      <td>1.097851e+09</td>\n",
              "      <td>89</td>\n",
              "      <td>66</td>\n",
              "      <td>998046.0</td>\n",
              "      <td>89.0</td>\n",
              "      <td>89.0</td>\n",
              "      <td>89.00</td>\n",
              "      <td>89.00</td>\n",
              "      <td>89.0</td>\n",
              "      <td>0.9271</td>\n",
              "      <td>0</td>\n",
              "      <td>0</td>\n",
              "      <td>0</td>\n",
              "      <td>5</td>\n",
              "      <td>0</td>\n",
              "      <td>0</td>\n",
              "      <td>0.73180</td>\n",
              "      <td>0.72124</td>\n",
              "      <td>0.749280</td>\n",
              "      <td>...</td>\n",
              "      <td>-4.40</td>\n",
              "      <td>6</td>\n",
              "      <td>9.76</td>\n",
              "      <td>-21.82</td>\n",
              "      <td>49.18</td>\n",
              "      <td>1.0435</td>\n",
              "      <td>-0.9066</td>\n",
              "      <td>1.5883</td>\n",
              "      <td>3.4154</td>\n",
              "      <td>2.8283</td>\n",
              "      <td>2.3451</td>\n",
              "      <td>0.030594</td>\n",
              "      <td>1.7418</td>\n",
              "      <td>1.5271</td>\n",
              "      <td>0.8474</td>\n",
              "      <td>0.4715</td>\n",
              "      <td>0.028362</td>\n",
              "      <td>3.1611</td>\n",
              "      <td>2.5162</td>\n",
              "      <td>2.0037</td>\n",
              "      <td>0.019636</td>\n",
              "      <td>4.4352</td>\n",
              "      <td>4.2676</td>\n",
              "      <td>-0.1524</td>\n",
              "      <td>1</td>\n",
              "      <td>-0.40</td>\n",
              "      <td>-0.560</td>\n",
              "      <td>-0.440</td>\n",
              "      <td>-0.6280</td>\n",
              "      <td>-3.14</td>\n",
              "      <td>5</td>\n",
              "      <td>2.14</td>\n",
              "      <td>-1.54</td>\n",
              "      <td>1.18</td>\n",
              "      <td>0.1833</td>\n",
              "      <td>0.7873</td>\n",
              "      <td>1</td>\n",
              "      <td>0</td>\n",
              "      <td>5</td>\n",
              "      <td>0</td>\n",
              "    </tr>\n",
              "    <tr>\n",
              "      <th>1</th>\n",
              "      <td>2</td>\n",
              "      <td>121</td>\n",
              "      <td>10</td>\n",
              "      <td>0.782776</td>\n",
              "      <td>1100</td>\n",
              "      <td>3</td>\n",
              "      <td>84645</td>\n",
              "      <td>240.0</td>\n",
              "      <td>1625.0</td>\n",
              "      <td>123.52</td>\n",
              "      <td>121.35</td>\n",
              "      <td>7</td>\n",
              "      <td>0.6555</td>\n",
              "      <td>0.6555</td>\n",
              "      <td>245815</td>\n",
              "      <td>0.6341</td>\n",
              "      <td>0.6341</td>\n",
              "      <td>0.3909</td>\n",
              "      <td>0.6667</td>\n",
              "      <td>0.6903</td>\n",
              "      <td>0.6903</td>\n",
              "      <td>8.449459e+08</td>\n",
              "      <td>78</td>\n",
              "      <td>50</td>\n",
              "      <td>754416.0</td>\n",
              "      <td>78.0</td>\n",
              "      <td>78.0</td>\n",
              "      <td>78.00</td>\n",
              "      <td>78.00</td>\n",
              "      <td>78.0</td>\n",
              "      <td>0.8478</td>\n",
              "      <td>0</td>\n",
              "      <td>0</td>\n",
              "      <td>0</td>\n",
              "      <td>6</td>\n",
              "      <td>0</td>\n",
              "      <td>0</td>\n",
              "      <td>0.65705</td>\n",
              "      <td>0.64069</td>\n",
              "      <td>0.626200</td>\n",
              "      <td>...</td>\n",
              "      <td>0.35</td>\n",
              "      <td>7</td>\n",
              "      <td>51.73</td>\n",
              "      <td>-72.44</td>\n",
              "      <td>798.74</td>\n",
              "      <td>2.7180</td>\n",
              "      <td>-0.8294</td>\n",
              "      <td>1.0740</td>\n",
              "      <td>2.9194</td>\n",
              "      <td>2.1180</td>\n",
              "      <td>1.5666</td>\n",
              "      <td>0.120442</td>\n",
              "      <td>1.1963</td>\n",
              "      <td>1.0322</td>\n",
              "      <td>0.4843</td>\n",
              "      <td>0.2389</td>\n",
              "      <td>0.130160</td>\n",
              "      <td>2.7659</td>\n",
              "      <td>1.9523</td>\n",
              "      <td>1.4059</td>\n",
              "      <td>0.115277</td>\n",
              "      <td>3.2763</td>\n",
              "      <td>2.7962</td>\n",
              "      <td>-0.3097</td>\n",
              "      <td>1</td>\n",
              "      <td>-0.17</td>\n",
              "      <td>-0.275</td>\n",
              "      <td>-0.203</td>\n",
              "      <td>-0.2300</td>\n",
              "      <td>-1.38</td>\n",
              "      <td>6</td>\n",
              "      <td>0.54</td>\n",
              "      <td>-0.24</td>\n",
              "      <td>0.13</td>\n",
              "      <td>0.1926</td>\n",
              "      <td>-0.6787</td>\n",
              "      <td>1</td>\n",
              "      <td>0</td>\n",
              "      <td>5</td>\n",
              "      <td>0</td>\n",
              "    </tr>\n",
              "    <tr>\n",
              "      <th>2</th>\n",
              "      <td>3</td>\n",
              "      <td>126</td>\n",
              "      <td>10</td>\n",
              "      <td>0.500080</td>\n",
              "      <td>1100</td>\n",
              "      <td>3</td>\n",
              "      <td>83607</td>\n",
              "      <td>1800.0</td>\n",
              "      <td>1527.0</td>\n",
              "      <td>127.76</td>\n",
              "      <td>126.49</td>\n",
              "      <td>7</td>\n",
              "      <td>0.7542</td>\n",
              "      <td>0.7542</td>\n",
              "      <td>1385872</td>\n",
              "      <td>0.7542</td>\n",
              "      <td>0.7542</td>\n",
              "      <td>0.5508</td>\n",
              "      <td>0.7542</td>\n",
              "      <td>0.8091</td>\n",
              "      <td>0.7807</td>\n",
              "      <td>1.308478e+09</td>\n",
              "      <td>89</td>\n",
              "      <td>54</td>\n",
              "      <td>1037651.0</td>\n",
              "      <td>89.0</td>\n",
              "      <td>89.0</td>\n",
              "      <td>100.43</td>\n",
              "      <td>94.37</td>\n",
              "      <td>89.0</td>\n",
              "      <td>0.9175</td>\n",
              "      <td>0</td>\n",
              "      <td>0</td>\n",
              "      <td>0</td>\n",
              "      <td>13</td>\n",
              "      <td>0</td>\n",
              "      <td>0</td>\n",
              "      <td>0.74710</td>\n",
              "      <td>0.75878</td>\n",
              "      <td>0.654685</td>\n",
              "      <td>...</td>\n",
              "      <td>-6.35</td>\n",
              "      <td>14</td>\n",
              "      <td>56.62</td>\n",
              "      <td>-79.48</td>\n",
              "      <td>621.97</td>\n",
              "      <td>1.9592</td>\n",
              "      <td>-0.3632</td>\n",
              "      <td>3.2969</td>\n",
              "      <td>7.2072</td>\n",
              "      <td>5.7062</td>\n",
              "      <td>4.5627</td>\n",
              "      <td>0.226336</td>\n",
              "      <td>3.3277</td>\n",
              "      <td>3.4166</td>\n",
              "      <td>1.8321</td>\n",
              "      <td>0.9979</td>\n",
              "      <td>0.103307</td>\n",
              "      <td>6.8623</td>\n",
              "      <td>5.2963</td>\n",
              "      <td>4.1282</td>\n",
              "      <td>0.219729</td>\n",
              "      <td>8.1381</td>\n",
              "      <td>7.3269</td>\n",
              "      <td>-0.1909</td>\n",
              "      <td>1</td>\n",
              "      <td>-0.58</td>\n",
              "      <td>-0.540</td>\n",
              "      <td>-0.572</td>\n",
              "      <td>-0.3985</td>\n",
              "      <td>-5.18</td>\n",
              "      <td>13</td>\n",
              "      <td>2.89</td>\n",
              "      <td>-1.73</td>\n",
              "      <td>1.04</td>\n",
              "      <td>0.2521</td>\n",
              "      <td>0.7258</td>\n",
              "      <td>1</td>\n",
              "      <td>0</td>\n",
              "      <td>5</td>\n",
              "      <td>0</td>\n",
              "    </tr>\n",
              "    <tr>\n",
              "      <th>3</th>\n",
              "      <td>4</td>\n",
              "      <td>134</td>\n",
              "      <td>10</td>\n",
              "      <td>0.439874</td>\n",
              "      <td>1100</td>\n",
              "      <td>3</td>\n",
              "      <td>82642</td>\n",
              "      <td>7542.0</td>\n",
              "      <td>1730.0</td>\n",
              "      <td>132.94</td>\n",
              "      <td>133.58</td>\n",
              "      <td>7</td>\n",
              "      <td>0.8017</td>\n",
              "      <td>0.7881</td>\n",
              "      <td>704687</td>\n",
              "      <td>0.7881</td>\n",
              "      <td>0.7881</td>\n",
              "      <td>0.5923</td>\n",
              "      <td>0.7881</td>\n",
              "      <td>0.8230</td>\n",
              "      <td>0.8158</td>\n",
              "      <td>1.472752e+09</td>\n",
              "      <td>93</td>\n",
              "      <td>55</td>\n",
              "      <td>1115721.0</td>\n",
              "      <td>93.0</td>\n",
              "      <td>93.0</td>\n",
              "      <td>114.63</td>\n",
              "      <td>102.92</td>\n",
              "      <td>93.0</td>\n",
              "      <td>0.9688</td>\n",
              "      <td>0</td>\n",
              "      <td>0</td>\n",
              "      <td>0</td>\n",
              "      <td>4</td>\n",
              "      <td>0</td>\n",
              "      <td>0</td>\n",
              "      <td>0.77405</td>\n",
              "      <td>0.78929</td>\n",
              "      <td>0.750675</td>\n",
              "      <td>...</td>\n",
              "      <td>3.75</td>\n",
              "      <td>5</td>\n",
              "      <td>36.31</td>\n",
              "      <td>18.15</td>\n",
              "      <td>429.81</td>\n",
              "      <td>2.5883</td>\n",
              "      <td>-0.8812</td>\n",
              "      <td>1.2950</td>\n",
              "      <td>2.5777</td>\n",
              "      <td>2.0830</td>\n",
              "      <td>1.6899</td>\n",
              "      <td>0.054630</td>\n",
              "      <td>1.3748</td>\n",
              "      <td>1.3421</td>\n",
              "      <td>0.7982</td>\n",
              "      <td>0.4810</td>\n",
              "      <td>0.081205</td>\n",
              "      <td>2.5571</td>\n",
              "      <td>2.0593</td>\n",
              "      <td>1.6653</td>\n",
              "      <td>0.056470</td>\n",
              "      <td>3.2516</td>\n",
              "      <td>3.0631</td>\n",
              "      <td>-0.1770</td>\n",
              "      <td>1</td>\n",
              "      <td>-0.75</td>\n",
              "      <td>-0.635</td>\n",
              "      <td>-0.745</td>\n",
              "      <td>-0.5100</td>\n",
              "      <td>-2.04</td>\n",
              "      <td>4</td>\n",
              "      <td>1.29</td>\n",
              "      <td>-0.89</td>\n",
              "      <td>0.66</td>\n",
              "      <td>0.2498</td>\n",
              "      <td>0.7119</td>\n",
              "      <td>1</td>\n",
              "      <td>0</td>\n",
              "      <td>5</td>\n",
              "      <td>0</td>\n",
              "    </tr>\n",
              "    <tr>\n",
              "      <th>4</th>\n",
              "      <td>5</td>\n",
              "      <td>109</td>\n",
              "      <td>9</td>\n",
              "      <td>0.502749</td>\n",
              "      <td>2900</td>\n",
              "      <td>4</td>\n",
              "      <td>79124</td>\n",
              "      <td>89.0</td>\n",
              "      <td>491.0</td>\n",
              "      <td>122.72</td>\n",
              "      <td>112.77</td>\n",
              "      <td>6</td>\n",
              "      <td>0.5263</td>\n",
              "      <td>0.5263</td>\n",
              "      <td>51985</td>\n",
              "      <td>0.5263</td>\n",
              "      <td>0.5263</td>\n",
              "      <td>0.3044</td>\n",
              "      <td>0.5405</td>\n",
              "      <td>0.5556</td>\n",
              "      <td>0.5455</td>\n",
              "      <td>1.442916e+09</td>\n",
              "      <td>60</td>\n",
              "      <td>21</td>\n",
              "      <td>536400.0</td>\n",
              "      <td>60.0</td>\n",
              "      <td>60.0</td>\n",
              "      <td>60.00</td>\n",
              "      <td>60.00</td>\n",
              "      <td>60.0</td>\n",
              "      <td>0.8451</td>\n",
              "      <td>0</td>\n",
              "      <td>0</td>\n",
              "      <td>0</td>\n",
              "      <td>26</td>\n",
              "      <td>0</td>\n",
              "      <td>0</td>\n",
              "      <td>0.60315</td>\n",
              "      <td>0.53367</td>\n",
              "      <td>0.696150</td>\n",
              "      <td>...</td>\n",
              "      <td>11.45</td>\n",
              "      <td>27</td>\n",
              "      <td>2206.14</td>\n",
              "      <td>-10559.05</td>\n",
              "      <td>708436.49</td>\n",
              "      <td>9.0293</td>\n",
              "      <td>-0.8760</td>\n",
              "      <td>6.3852</td>\n",
              "      <td>17.2599</td>\n",
              "      <td>14.2795</td>\n",
              "      <td>11.9179</td>\n",
              "      <td>0.085330</td>\n",
              "      <td>7.2175</td>\n",
              "      <td>6.2262</td>\n",
              "      <td>3.1446</td>\n",
              "      <td>1.6149</td>\n",
              "      <td>0.074286</td>\n",
              "      <td>15.9080</td>\n",
              "      <td>12.5688</td>\n",
              "      <td>9.9844</td>\n",
              "      <td>0.067540</td>\n",
              "      <td>17.5561</td>\n",
              "      <td>15.6079</td>\n",
              "      <td>-0.4444</td>\n",
              "      <td>1</td>\n",
              "      <td>-0.18</td>\n",
              "      <td>-0.280</td>\n",
              "      <td>-0.182</td>\n",
              "      <td>-0.4277</td>\n",
              "      <td>-11.12</td>\n",
              "      <td>26</td>\n",
              "      <td>6.11</td>\n",
              "      <td>-3.82</td>\n",
              "      <td>2.51</td>\n",
              "      <td>0.2282</td>\n",
              "      <td>-0.5399</td>\n",
              "      <td>0</td>\n",
              "      <td>0</td>\n",
              "      <td>5</td>\n",
              "      <td>0</td>\n",
              "    </tr>\n",
              "  </tbody>\n",
              "</table>\n",
              "<p>5 rows × 771 columns</p>\n",
              "</div>"
            ],
            "text/plain": [
              "   id   f1  f2        f3    f4  f5  ...    f774    f775  f776  f777  f778  loss\n",
              "0   1  126  10  0.686842  1100   3  ...  0.1833  0.7873     1     0     5     0\n",
              "1   2  121  10  0.782776  1100   3  ...  0.1926 -0.6787     1     0     5     0\n",
              "2   3  126  10  0.500080  1100   3  ...  0.2521  0.7258     1     0     5     0\n",
              "3   4  134  10  0.439874  1100   3  ...  0.2498  0.7119     1     0     5     0\n",
              "4   5  109   9  0.502749  2900   4  ...  0.2282 -0.5399     0     0     5     0\n",
              "\n",
              "[5 rows x 771 columns]"
            ]
          },
          "metadata": {
            "tags": []
          },
          "execution_count": 5
        }
      ]
    },
    {
      "cell_type": "code",
      "metadata": {
        "colab": {
          "base_uri": "https://localhost:8080/"
        },
        "id": "GVgn1L269WU7",
        "outputId": "3cd3a733-a8be-4a49-ccce-b67d84ff644b"
      },
      "source": [
        "len_test = len(train)\r\n",
        "train = train.append(test)\r\n",
        "\r\n",
        "test = None\r\n",
        "train.shape, len_test"
      ],
      "execution_count": 6,
      "outputs": [
        {
          "output_type": "execute_result",
          "data": {
            "text/plain": [
              "((316415, 771), 105471)"
            ]
          },
          "metadata": {
            "tags": []
          },
          "execution_count": 6
        }
      ]
    },
    {
      "cell_type": "markdown",
      "metadata": {
        "id": "ptJ4Bu3p8OSA"
      },
      "source": [
        "## 3.2 Feature Engineering and Data Cleaning"
      ]
    },
    {
      "cell_type": "code",
      "metadata": {
        "id": "BVVxme3gzU9A"
      },
      "source": [
        "# Function to handle missing values in a column\r\n",
        "\r\n",
        "def missing_values_table(df):\r\n",
        "        mis_val = df.isnull().sum()\r\n",
        "        mis_val_percent = 100 * df.isnull().sum() / len(df)\r\n",
        "        mis_val_table = pd.concat([mis_val, mis_val_percent], axis=1)\r\n",
        "        mis_val_table_ren_columns = mis_val_table.rename(\r\n",
        "        columns = {0 : 'Missing Values', 1 : '% of Total Values'})\r\n",
        "        mis_val_table_ren_columns = mis_val_table_ren_columns[\r\n",
        "            mis_val_table_ren_columns.iloc[:,1] != 0].sort_values(\r\n",
        "        '% of Total Values', ascending=False).round(1)\r\n",
        "        return mis_val_table_ren_columns"
      ],
      "execution_count": 7,
      "outputs": []
    },
    {
      "cell_type": "code",
      "metadata": {
        "colab": {
          "base_uri": "https://localhost:8080/"
        },
        "id": "dJdipfhif-OJ",
        "outputId": "a47957d0-62d4-4eb9-a47c-f1b33dd88ee0"
      },
      "source": [
        "train.dtypes.unique()"
      ],
      "execution_count": 8,
      "outputs": [
        {
          "output_type": "execute_result",
          "data": {
            "text/plain": [
              "array([dtype('int64'), dtype('float64'), dtype('O')], dtype=object)"
            ]
          },
          "metadata": {
            "tags": []
          },
          "execution_count": 8
        }
      ]
    },
    {
      "cell_type": "code",
      "metadata": {
        "id": "eALkucNXPbal"
      },
      "source": [
        "cols_object = train.select_dtypes(include=['object']).columns\r\n",
        "cols_int = train.select_dtypes(include=['int']).columns\r\n",
        "cols_float = train.select_dtypes(include=['float']).columns"
      ],
      "execution_count": 9,
      "outputs": []
    },
    {
      "cell_type": "code",
      "metadata": {
        "id": "vArAeVyMPvgz"
      },
      "source": [
        "unable_to_convert = []\r\n",
        "for col in cols_object:\r\n",
        "  try:\r\n",
        "    train[col] = train[col].astype(str).astype(float)\r\n",
        "  except:\r\n",
        "    unable_to_convert.append(col)"
      ],
      "execution_count": 10,
      "outputs": []
    },
    {
      "cell_type": "code",
      "metadata": {
        "colab": {
          "base_uri": "https://localhost:8080/"
        },
        "id": "wplTEvhwYkj5",
        "outputId": "2610f81b-7e68-41fb-93f5-f83e79a6cbe7"
      },
      "source": [
        "len(unable_to_convert), unable_to_convert"
      ],
      "execution_count": 11,
      "outputs": [
        {
          "output_type": "execute_result",
          "data": {
            "text/plain": [
              "(2, ['f137', 'f276'])"
            ]
          },
          "metadata": {
            "tags": []
          },
          "execution_count": 11
        }
      ]
    },
    {
      "cell_type": "code",
      "metadata": {
        "id": "tdDHVukXQ3qO"
      },
      "source": [
        "for i in unable_to_convert:\r\n",
        "  train[i] = train[i].replace('NA', np.nan)\r\n",
        "  train[i] = train[i].astype(str).astype(float)"
      ],
      "execution_count": 12,
      "outputs": []
    },
    {
      "cell_type": "code",
      "metadata": {
        "colab": {
          "base_uri": "https://localhost:8080/"
        },
        "id": "358s0Lvkxo9O",
        "outputId": "f4279c8e-83e5-4d6f-c0b0-9ffe2ee4140a"
      },
      "source": [
        "train.shape"
      ],
      "execution_count": 13,
      "outputs": [
        {
          "output_type": "execute_result",
          "data": {
            "text/plain": [
              "(316415, 771)"
            ]
          },
          "metadata": {
            "tags": []
          },
          "execution_count": 13
        }
      ]
    },
    {
      "cell_type": "code",
      "metadata": {
        "id": "5EX44rFd3MnM"
      },
      "source": [
        "cols_to_drop = missing_values_table(train)"
      ],
      "execution_count": 14,
      "outputs": []
    },
    {
      "cell_type": "code",
      "metadata": {
        "colab": {
          "base_uri": "https://localhost:8080/"
        },
        "id": "a_eHhXjJLkF6",
        "outputId": "71698f36-6cc0-4f5b-b39d-5994e16ebedf"
      },
      "source": [
        "cols_to_drop = list(cols_to_drop[cols_to_drop['% of Total Values']>=15].index.values)\r\n",
        "\r\n",
        "try:\r\n",
        "  cols_to_drop.remove('id')\r\n",
        "except:\r\n",
        "  pass\r\n",
        "\r\n",
        "try:\r\n",
        "  cols_to_drop.remove('loss')\r\n",
        "except:\r\n",
        "  pass\r\n",
        "\r\n",
        "len(cols_to_drop)"
      ],
      "execution_count": 15,
      "outputs": [
        {
          "output_type": "execute_result",
          "data": {
            "text/plain": [
              "12"
            ]
          },
          "metadata": {
            "tags": []
          },
          "execution_count": 15
        }
      ]
    },
    {
      "cell_type": "code",
      "metadata": {
        "colab": {
          "base_uri": "https://localhost:8080/"
        },
        "id": "nJoQQSuK43jH",
        "outputId": "43b1425a-472c-4e5f-b711-3085c5bca5e8"
      },
      "source": [
        "# Droping the columns with more than 15% of NA data -> around 48k datapoints\r\n",
        "train = train.drop(cols_to_drop, axis=1)\r\n",
        "train.shape"
      ],
      "execution_count": 16,
      "outputs": [
        {
          "output_type": "execute_result",
          "data": {
            "text/plain": [
              "(316415, 759)"
            ]
          },
          "metadata": {
            "tags": []
          },
          "execution_count": 16
        }
      ]
    },
    {
      "cell_type": "code",
      "metadata": {
        "id": "pAlEyEzxgrQA"
      },
      "source": [
        "# cat = list(cols_object.values)\r\n",
        "# cat.append(list(cols_int.values))\r\n",
        "# cat = [x for x in cat if x not in cols_to_drop]\r\n",
        "# cols_float = [x for x in cols_float if x not in cols_to_drop]\r\n",
        "# len(cat), len(cols_float)"
      ],
      "execution_count": 19,
      "outputs": []
    },
    {
      "cell_type": "code",
      "metadata": {
        "id": "PiTLo9LnkW7b"
      },
      "source": [
        "# Function to check if the values in a column are all same\n",
        "def is_unique(s):\n",
        "    a = s.to_numpy()\n",
        "    return (a[0] == a).all()\n",
        "\n",
        "    \n",
        "\n",
        "# Function to find out duplicate columns\n",
        "# reference: https://www.geeksforgeeks.org/how-to-find-drop-duplicate-columns-in-a-pandas-dataframe/\n",
        "\n",
        "def getDuplicateColumns(df):\n",
        "    duplicateColumnNames = set() \n",
        "    for x in range(df.shape[1]): \n",
        "        col = df.iloc[:, x] \n",
        "        for y in range(x + 1, df.shape[1]): \n",
        "            otherCol = df.iloc[:, y] \n",
        "            if col.equals(otherCol): \n",
        "                duplicateColumnNames.add(df.columns.values[y]) \n",
        "    return list(duplicateColumnNames) "
      ],
      "execution_count": 17,
      "outputs": []
    },
    {
      "cell_type": "code",
      "metadata": {
        "id": "htMiryWFkyxk"
      },
      "source": [
        "column = train.columns #get all column names"
      ],
      "execution_count": 18,
      "outputs": []
    },
    {
      "cell_type": "code",
      "metadata": {
        "colab": {
          "base_uri": "https://localhost:8080/",
          "height": 35
        },
        "id": "rifKNnC9k3oa",
        "outputId": "6ec1c207-286f-4dac-8be4-ddeaebff3a15"
      },
      "source": [
        "#get columns which has same value across all rows\n",
        "\n",
        "check_columns = []\n",
        "\n",
        "for i in column:\n",
        "    check_columns.append(is_unique(train[i]))\n",
        "\n",
        "n = check_columns.index(True)\n",
        "\n",
        "same_value_column = column[n]\n",
        "\n",
        "same_value_column"
      ],
      "execution_count": 19,
      "outputs": [
        {
          "output_type": "execute_result",
          "data": {
            "application/vnd.google.colaboratory.intrinsic+json": {
              "type": "string"
            },
            "text/plain": [
              "'f33'"
            ]
          },
          "metadata": {
            "tags": []
          },
          "execution_count": 19
        }
      ]
    },
    {
      "cell_type": "code",
      "metadata": {
        "id": "Hqi5LAAOlchd",
        "colab": {
          "base_uri": "https://localhost:8080/"
        },
        "outputId": "6fcb857b-9840-4a82-f3d3-5ba03f288d64"
      },
      "source": [
        "#get all duplicate columns in the dataframe\n",
        "duplicate_columns = getDuplicateColumns(train)\n",
        "\n",
        "duplicate_columns"
      ],
      "execution_count": 20,
      "outputs": [
        {
          "output_type": "execute_result",
          "data": {
            "text/plain": [
              "['f38', 'f34', 'f702', 'f37', 'f35', 'f701', 'f764', 'f700']"
            ]
          },
          "metadata": {
            "tags": []
          },
          "execution_count": 20
        }
      ]
    },
    {
      "cell_type": "code",
      "metadata": {
        "colab": {
          "base_uri": "https://localhost:8080/"
        },
        "id": "mpchZrNvlxDe",
        "outputId": "c98985c3-9db0-4b5d-8e7c-728cc08bab36"
      },
      "source": [
        "# Dropping all duplicate columns and column with same value in all row\n",
        "\n",
        "# Dropping column which has same value accross all rows\n",
        "\n",
        "train = train.drop(same_value_column, axis = 1)\n",
        "\n",
        "# Dropping all the duplicate columns\n",
        "\n",
        "train = train.drop(duplicate_columns, axis = 1)\n",
        "\n",
        "# Check shape\n",
        "train.shape"
      ],
      "execution_count": 21,
      "outputs": [
        {
          "output_type": "execute_result",
          "data": {
            "text/plain": [
              "(316415, 750)"
            ]
          },
          "metadata": {
            "tags": []
          },
          "execution_count": 21
        }
      ]
    },
    {
      "cell_type": "code",
      "metadata": {
        "id": "aL4go0QpTV0R"
      },
      "source": [
        "# # We will be using 'mode' to impute missing values in columns which are categorical in nature\r\n",
        "# train[cat].fillna(train[cat].mode())\r\n",
        "\r\n",
        "# # We will be using 'median' to impute missing values in columns which are continuous in nature\r\n",
        "# train[cols_float].fillna(train[cols_float].mode())"
      ],
      "execution_count": 22,
      "outputs": []
    },
    {
      "cell_type": "code",
      "metadata": {
        "id": "6Qhf5TVdzHDW"
      },
      "source": [
        "column_act = list(train.columns.values)\r\n",
        "column_act.remove('loss')"
      ],
      "execution_count": 23,
      "outputs": []
    },
    {
      "cell_type": "code",
      "metadata": {
        "id": "XZ2Aq5wKd1_l"
      },
      "source": [
        "train[column_act] = train[column_act].fillna(train[column_act].median())"
      ],
      "execution_count": 24,
      "outputs": []
    },
    {
      "cell_type": "markdown",
      "metadata": {
        "id": "K8OTA4sOzikX"
      },
      "source": [
        "# 3.3 Target Analysis"
      ]
    },
    {
      "cell_type": "code",
      "metadata": {
        "colab": {
          "base_uri": "https://localhost:8080/",
          "height": 297
        },
        "id": "GgsufAc8nNTg",
        "outputId": "aa770b15-7a66-4904-cb1d-5d4f9347c7c0"
      },
      "source": [
        "fig, ax = plt.subplots(1,2)\r\n",
        "width, height = fig.get_size_inches()\r\n",
        "fig.set_size_inches(width*2, height)\r\n",
        "sn.distplot(train['loss'][:len_test], ax=ax[0], fit=norm)\r\n",
        "sn.distplot(np.log(train['loss'][:len_test].astype('int64')+1), ax=ax[1], fit= norm)"
      ],
      "execution_count": 25,
      "outputs": [
        {
          "output_type": "execute_result",
          "data": {
            "text/plain": [
              "<matplotlib.axes._subplots.AxesSubplot at 0x7f9a4fd02668>"
            ]
          },
          "metadata": {
            "tags": []
          },
          "execution_count": 25
        },
        {
          "output_type": "display_data",
          "data": {
            "image/png": "[encoded data removed]",
            "text/plain": [
              "<Figure size 864x288 with 2 Axes>"
            ]
          },
          "metadata": {
            "tags": [],
            "needs_background": "light"
          }
        }
      ]
    },
    {
      "cell_type": "markdown",
      "metadata": {
        "id": "II4X0ptBABas"
      },
      "source": [
        "## 3.4 Analyzing Correlation"
      ]
    },
    {
      "cell_type": "code",
      "metadata": {
        "id": "1Ah-DP4A0GWd"
      },
      "source": [
        "corr = train[:len_test].corr()['loss'].sort_values()"
      ],
      "execution_count": 26,
      "outputs": []
    },
    {
      "cell_type": "code",
      "metadata": {
        "colab": {
          "base_uri": "https://localhost:8080/",
          "height": 283
        },
        "id": "4DVlnns30pXA",
        "outputId": "873ab987-9fec-4a4d-f879-b5c57fe1a4df"
      },
      "source": [
        "plt.plot(corr)"
      ],
      "execution_count": 27,
      "outputs": [
        {
          "output_type": "execute_result",
          "data": {
            "text/plain": [
              "[<matplotlib.lines.Line2D at 0x7f9a493c3e80>]"
            ]
          },
          "metadata": {
            "tags": []
          },
          "execution_count": 27
        },
        {
          "output_type": "display_data",
          "data": {
            "image/png": "[encoded data removed]",
            "text/plain": [
              "<Figure size 432x288 with 1 Axes>"
            ]
          },
          "metadata": {
            "tags": [],
            "needs_background": "light"
          }
        }
      ]
    },
    {
      "cell_type": "code",
      "metadata": {
        "colab": {
          "base_uri": "https://localhost:8080/"
        },
        "id": "nr7umsEiHgYi",
        "outputId": "337968f8-b988-4f62-80c7-b8144b3d960c"
      },
      "source": [
        "train.shape[1] -  (sum(i < 0.004 and i > -0.005 for i in corr)/len(corr))*train.shape[1]"
      ],
      "execution_count": 49,
      "outputs": [
        {
          "output_type": "execute_result",
          "data": {
            "text/plain": [
              "138.0"
            ]
          },
          "metadata": {
            "tags": []
          },
          "execution_count": 49
        }
      ]
    },
    {
      "cell_type": "code",
      "metadata": {
        "colab": {
          "base_uri": "https://localhost:8080/"
        },
        "id": "4-Hfm0fcBpBD",
        "outputId": "4e364d03-6ba2-4b40-f2c6-c7825efafebd"
      },
      "source": [
        "# To find all the columns with low correlation\r\n",
        "\r\n",
        "get_low_corr = []\r\n",
        "col = train.select_dtypes(include=['float','int']).columns\r\n",
        "for i in col:\r\n",
        "  val = train['loss'].corr(train[i])\r\n",
        "  if(val <= 0.004) and (val >= -0.005):\r\n",
        "    get_low_corr.append(i)\r\n",
        "\r\n",
        "get_low_corr.remove('id')\r\n",
        "\r\n",
        "len(get_low_corr)"
      ],
      "execution_count": 50,
      "outputs": [
        {
          "output_type": "execute_result",
          "data": {
            "text/plain": [
              "611"
            ]
          },
          "metadata": {
            "tags": []
          },
          "execution_count": 50
        }
      ]
    },
    {
      "cell_type": "code",
      "metadata": {
        "colab": {
          "base_uri": "https://localhost:8080/",
          "height": 251
        },
        "id": "9GDHNJcqDjnj",
        "outputId": "6dfd1c48-460d-46b2-8484-3793eb0c5b7e"
      },
      "source": [
        "train = train.drop(get_low_corr, axis = 1)\r\n",
        "train.head(5)"
      ],
      "execution_count": 52,
      "outputs": [
        {
          "output_type": "execute_result",
          "data": {
            "text/html": [
              "<div>\n",
              "<style scoped>\n",
              "    .dataframe tbody tr th:only-of-type {\n",
              "        vertical-align: middle;\n",
              "    }\n",
              "\n",
              "    .dataframe tbody tr th {\n",
              "        vertical-align: top;\n",
              "    }\n",
              "\n",
              "    .dataframe thead th {\n",
              "        text-align: right;\n",
              "    }\n",
              "</style>\n",
              "<table border=\"1\" class=\"dataframe\">\n",
              "  <thead>\n",
              "    <tr style=\"text-align: right;\">\n",
              "      <th></th>\n",
              "      <th>id</th>\n",
              "      <th>f1</th>\n",
              "      <th>f4</th>\n",
              "      <th>f9</th>\n",
              "      <th>f10</th>\n",
              "      <th>f13</th>\n",
              "      <th>f18</th>\n",
              "      <th>f19</th>\n",
              "      <th>f31</th>\n",
              "      <th>f39</th>\n",
              "      <th>f40</th>\n",
              "      <th>f41</th>\n",
              "      <th>f45</th>\n",
              "      <th>f47</th>\n",
              "      <th>f49</th>\n",
              "      <th>f51</th>\n",
              "      <th>f55</th>\n",
              "      <th>f56</th>\n",
              "      <th>f57</th>\n",
              "      <th>f59</th>\n",
              "      <th>f61</th>\n",
              "      <th>f65</th>\n",
              "      <th>f67</th>\n",
              "      <th>f68</th>\n",
              "      <th>f69</th>\n",
              "      <th>f70</th>\n",
              "      <th>f102</th>\n",
              "      <th>f103</th>\n",
              "      <th>f178</th>\n",
              "      <th>f190</th>\n",
              "      <th>f200</th>\n",
              "      <th>f211</th>\n",
              "      <th>f221</th>\n",
              "      <th>f222</th>\n",
              "      <th>f231</th>\n",
              "      <th>f232</th>\n",
              "      <th>f238</th>\n",
              "      <th>f241</th>\n",
              "      <th>f251</th>\n",
              "      <th>f252</th>\n",
              "      <th>...</th>\n",
              "      <th>f632</th>\n",
              "      <th>f641</th>\n",
              "      <th>f642</th>\n",
              "      <th>f643</th>\n",
              "      <th>f660</th>\n",
              "      <th>f665</th>\n",
              "      <th>f666</th>\n",
              "      <th>f667</th>\n",
              "      <th>f670</th>\n",
              "      <th>f674</th>\n",
              "      <th>f675</th>\n",
              "      <th>f676</th>\n",
              "      <th>f678</th>\n",
              "      <th>f696</th>\n",
              "      <th>f699</th>\n",
              "      <th>f716</th>\n",
              "      <th>f728</th>\n",
              "      <th>f730</th>\n",
              "      <th>f731</th>\n",
              "      <th>f732</th>\n",
              "      <th>f734</th>\n",
              "      <th>f736</th>\n",
              "      <th>f737</th>\n",
              "      <th>f738</th>\n",
              "      <th>f740</th>\n",
              "      <th>f742</th>\n",
              "      <th>f753</th>\n",
              "      <th>f754</th>\n",
              "      <th>f755</th>\n",
              "      <th>f765</th>\n",
              "      <th>f766</th>\n",
              "      <th>f767</th>\n",
              "      <th>f769</th>\n",
              "      <th>f771</th>\n",
              "      <th>f772</th>\n",
              "      <th>f773</th>\n",
              "      <th>f774</th>\n",
              "      <th>f775</th>\n",
              "      <th>f776</th>\n",
              "      <th>loss</th>\n",
              "    </tr>\n",
              "  </thead>\n",
              "  <tbody>\n",
              "    <tr>\n",
              "      <th>0</th>\n",
              "      <td>1</td>\n",
              "      <td>126</td>\n",
              "      <td>1100</td>\n",
              "      <td>126.75</td>\n",
              "      <td>126.03</td>\n",
              "      <td>7</td>\n",
              "      <td>0.7236</td>\n",
              "      <td>0.5171</td>\n",
              "      <td>89.0</td>\n",
              "      <td>0.73180</td>\n",
              "      <td>0.72124</td>\n",
              "      <td>0.749280</td>\n",
              "      <td>0.83380</td>\n",
              "      <td>0.825920</td>\n",
              "      <td>0.75710</td>\n",
              "      <td>0.767820</td>\n",
              "      <td>0.53855</td>\n",
              "      <td>0.52539</td>\n",
              "      <td>0.551920</td>\n",
              "      <td>0.79380</td>\n",
              "      <td>0.794880</td>\n",
              "      <td>0.960160</td>\n",
              "      <td>4.5785</td>\n",
              "      <td>6</td>\n",
              "      <td>-0.01</td>\n",
              "      <td>0.00</td>\n",
              "      <td>0.01</td>\n",
              "      <td>0.00</td>\n",
              "      <td>0.46</td>\n",
              "      <td>1.05</td>\n",
              "      <td>1.15</td>\n",
              "      <td>6.39</td>\n",
              "      <td>0.02</td>\n",
              "      <td>0.0</td>\n",
              "      <td>0.13</td>\n",
              "      <td>0.01</td>\n",
              "      <td>0.30</td>\n",
              "      <td>0.01</td>\n",
              "      <td>0.15</td>\n",
              "      <td>0.01</td>\n",
              "      <td>...</td>\n",
              "      <td>0.929</td>\n",
              "      <td>0.762765</td>\n",
              "      <td>0.750977</td>\n",
              "      <td>0.781186</td>\n",
              "      <td>1.14</td>\n",
              "      <td>227.0</td>\n",
              "      <td>3.0</td>\n",
              "      <td>17211.0</td>\n",
              "      <td>335</td>\n",
              "      <td>33</td>\n",
              "      <td>3.0</td>\n",
              "      <td>0.60</td>\n",
              "      <td>0.0</td>\n",
              "      <td>0.186912</td>\n",
              "      <td>11748</td>\n",
              "      <td>1.354874</td>\n",
              "      <td>768</td>\n",
              "      <td>98316</td>\n",
              "      <td>12587508</td>\n",
              "      <td>1611786276</td>\n",
              "      <td>-2.00</td>\n",
              "      <td>1</td>\n",
              "      <td>-1.60</td>\n",
              "      <td>-2.020</td>\n",
              "      <td>-4.40</td>\n",
              "      <td>9.76</td>\n",
              "      <td>1.5271</td>\n",
              "      <td>0.8474</td>\n",
              "      <td>0.4715</td>\n",
              "      <td>-0.40</td>\n",
              "      <td>-0.560</td>\n",
              "      <td>-0.440</td>\n",
              "      <td>-3.14</td>\n",
              "      <td>2.14</td>\n",
              "      <td>-1.54</td>\n",
              "      <td>1.18</td>\n",
              "      <td>0.1833</td>\n",
              "      <td>0.7873</td>\n",
              "      <td>1</td>\n",
              "      <td>0.0</td>\n",
              "    </tr>\n",
              "    <tr>\n",
              "      <th>1</th>\n",
              "      <td>2</td>\n",
              "      <td>121</td>\n",
              "      <td>1100</td>\n",
              "      <td>123.52</td>\n",
              "      <td>121.35</td>\n",
              "      <td>7</td>\n",
              "      <td>0.6341</td>\n",
              "      <td>0.3909</td>\n",
              "      <td>78.0</td>\n",
              "      <td>0.65705</td>\n",
              "      <td>0.64069</td>\n",
              "      <td>0.626200</td>\n",
              "      <td>0.72515</td>\n",
              "      <td>0.687067</td>\n",
              "      <td>0.67775</td>\n",
              "      <td>0.642050</td>\n",
              "      <td>0.42545</td>\n",
              "      <td>0.41181</td>\n",
              "      <td>0.393817</td>\n",
              "      <td>0.71515</td>\n",
              "      <td>0.669100</td>\n",
              "      <td>0.793950</td>\n",
              "      <td>4.5785</td>\n",
              "      <td>6</td>\n",
              "      <td>-0.04</td>\n",
              "      <td>-0.03</td>\n",
              "      <td>0.01</td>\n",
              "      <td>0.00</td>\n",
              "      <td>0.25</td>\n",
              "      <td>1.61</td>\n",
              "      <td>1.37</td>\n",
              "      <td>8.99</td>\n",
              "      <td>0.04</td>\n",
              "      <td>0.0</td>\n",
              "      <td>0.01</td>\n",
              "      <td>0.00</td>\n",
              "      <td>0.25</td>\n",
              "      <td>0.01</td>\n",
              "      <td>0.04</td>\n",
              "      <td>0.00</td>\n",
              "      <td>...</td>\n",
              "      <td>6.548</td>\n",
              "      <td>0.741765</td>\n",
              "      <td>0.749177</td>\n",
              "      <td>0.679880</td>\n",
              "      <td>1.15</td>\n",
              "      <td>233.0</td>\n",
              "      <td>4.0</td>\n",
              "      <td>13597.0</td>\n",
              "      <td>335</td>\n",
              "      <td>43</td>\n",
              "      <td>10.0</td>\n",
              "      <td>0.83</td>\n",
              "      <td>0.0</td>\n",
              "      <td>0.191660</td>\n",
              "      <td>336</td>\n",
              "      <td>0.832299</td>\n",
              "      <td>881</td>\n",
              "      <td>110953</td>\n",
              "      <td>13982483</td>\n",
              "      <td>1763226997</td>\n",
              "      <td>-4.86</td>\n",
              "      <td>1</td>\n",
              "      <td>-2.73</td>\n",
              "      <td>-4.594</td>\n",
              "      <td>0.35</td>\n",
              "      <td>51.73</td>\n",
              "      <td>1.0322</td>\n",
              "      <td>0.4843</td>\n",
              "      <td>0.2389</td>\n",
              "      <td>-0.17</td>\n",
              "      <td>-0.275</td>\n",
              "      <td>-0.203</td>\n",
              "      <td>-1.38</td>\n",
              "      <td>0.54</td>\n",
              "      <td>-0.24</td>\n",
              "      <td>0.13</td>\n",
              "      <td>0.1926</td>\n",
              "      <td>-0.6787</td>\n",
              "      <td>1</td>\n",
              "      <td>0.0</td>\n",
              "    </tr>\n",
              "    <tr>\n",
              "      <th>2</th>\n",
              "      <td>3</td>\n",
              "      <td>126</td>\n",
              "      <td>1100</td>\n",
              "      <td>127.76</td>\n",
              "      <td>126.49</td>\n",
              "      <td>7</td>\n",
              "      <td>0.7542</td>\n",
              "      <td>0.5508</td>\n",
              "      <td>89.0</td>\n",
              "      <td>0.74710</td>\n",
              "      <td>0.75878</td>\n",
              "      <td>0.654685</td>\n",
              "      <td>0.80455</td>\n",
              "      <td>0.709346</td>\n",
              "      <td>0.74710</td>\n",
              "      <td>0.656654</td>\n",
              "      <td>0.54540</td>\n",
              "      <td>0.55572</td>\n",
              "      <td>0.502138</td>\n",
              "      <td>0.78035</td>\n",
              "      <td>0.692523</td>\n",
              "      <td>0.798423</td>\n",
              "      <td>4.5785</td>\n",
              "      <td>6</td>\n",
              "      <td>-0.03</td>\n",
              "      <td>-0.04</td>\n",
              "      <td>0.26</td>\n",
              "      <td>0.09</td>\n",
              "      <td>0.30</td>\n",
              "      <td>1.37</td>\n",
              "      <td>1.17</td>\n",
              "      <td>10.88</td>\n",
              "      <td>0.01</td>\n",
              "      <td>0.0</td>\n",
              "      <td>0.02</td>\n",
              "      <td>0.00</td>\n",
              "      <td>0.26</td>\n",
              "      <td>0.01</td>\n",
              "      <td>0.02</td>\n",
              "      <td>0.00</td>\n",
              "      <td>...</td>\n",
              "      <td>11.148</td>\n",
              "      <td>0.792410</td>\n",
              "      <td>0.786338</td>\n",
              "      <td>0.723983</td>\n",
              "      <td>1.12</td>\n",
              "      <td>689.0</td>\n",
              "      <td>10.0</td>\n",
              "      <td>47657.0</td>\n",
              "      <td>335</td>\n",
              "      <td>100</td>\n",
              "      <td>5.0</td>\n",
              "      <td>0.42</td>\n",
              "      <td>0.0</td>\n",
              "      <td>0.252978</td>\n",
              "      <td>14500</td>\n",
              "      <td>1.665038</td>\n",
              "      <td>1787</td>\n",
              "      <td>228163</td>\n",
              "      <td>29139977</td>\n",
              "      <td>3722679463</td>\n",
              "      <td>-1.64</td>\n",
              "      <td>1</td>\n",
              "      <td>0.12</td>\n",
              "      <td>-1.166</td>\n",
              "      <td>-6.35</td>\n",
              "      <td>56.62</td>\n",
              "      <td>3.4166</td>\n",
              "      <td>1.8321</td>\n",
              "      <td>0.9979</td>\n",
              "      <td>-0.58</td>\n",
              "      <td>-0.540</td>\n",
              "      <td>-0.572</td>\n",
              "      <td>-5.18</td>\n",
              "      <td>2.89</td>\n",
              "      <td>-1.73</td>\n",
              "      <td>1.04</td>\n",
              "      <td>0.2521</td>\n",
              "      <td>0.7258</td>\n",
              "      <td>1</td>\n",
              "      <td>0.0</td>\n",
              "    </tr>\n",
              "    <tr>\n",
              "      <th>3</th>\n",
              "      <td>4</td>\n",
              "      <td>134</td>\n",
              "      <td>1100</td>\n",
              "      <td>132.94</td>\n",
              "      <td>133.58</td>\n",
              "      <td>7</td>\n",
              "      <td>0.7881</td>\n",
              "      <td>0.5923</td>\n",
              "      <td>93.0</td>\n",
              "      <td>0.77405</td>\n",
              "      <td>0.78929</td>\n",
              "      <td>0.750675</td>\n",
              "      <td>0.81150</td>\n",
              "      <td>0.800900</td>\n",
              "      <td>0.77405</td>\n",
              "      <td>0.761825</td>\n",
              "      <td>0.58615</td>\n",
              "      <td>0.59307</td>\n",
              "      <td>0.573525</td>\n",
              "      <td>0.80790</td>\n",
              "      <td>0.797550</td>\n",
              "      <td>0.928550</td>\n",
              "      <td>4.5785</td>\n",
              "      <td>6</td>\n",
              "      <td>0.02</td>\n",
              "      <td>0.03</td>\n",
              "      <td>0.07</td>\n",
              "      <td>0.00</td>\n",
              "      <td>0.29</td>\n",
              "      <td>1.17</td>\n",
              "      <td>1.05</td>\n",
              "      <td>7.97</td>\n",
              "      <td>0.04</td>\n",
              "      <td>0.0</td>\n",
              "      <td>0.02</td>\n",
              "      <td>0.00</td>\n",
              "      <td>0.29</td>\n",
              "      <td>0.01</td>\n",
              "      <td>0.06</td>\n",
              "      <td>0.00</td>\n",
              "      <td>...</td>\n",
              "      <td>1.496</td>\n",
              "      <td>0.906675</td>\n",
              "      <td>0.930015</td>\n",
              "      <td>0.884525</td>\n",
              "      <td>-0.62</td>\n",
              "      <td>62.0</td>\n",
              "      <td>1.0</td>\n",
              "      <td>3844.0</td>\n",
              "      <td>335</td>\n",
              "      <td>18</td>\n",
              "      <td>2.0</td>\n",
              "      <td>0.25</td>\n",
              "      <td>0.0</td>\n",
              "      <td>0.250200</td>\n",
              "      <td>2462</td>\n",
              "      <td>1.498953</td>\n",
              "      <td>665</td>\n",
              "      <td>88503</td>\n",
              "      <td>11786291</td>\n",
              "      <td>1570641075</td>\n",
              "      <td>1.00</td>\n",
              "      <td>1</td>\n",
              "      <td>0.16</td>\n",
              "      <td>0.590</td>\n",
              "      <td>3.75</td>\n",
              "      <td>36.31</td>\n",
              "      <td>1.3421</td>\n",
              "      <td>0.7982</td>\n",
              "      <td>0.4810</td>\n",
              "      <td>-0.75</td>\n",
              "      <td>-0.635</td>\n",
              "      <td>-0.745</td>\n",
              "      <td>-2.04</td>\n",
              "      <td>1.29</td>\n",
              "      <td>-0.89</td>\n",
              "      <td>0.66</td>\n",
              "      <td>0.2498</td>\n",
              "      <td>0.7119</td>\n",
              "      <td>1</td>\n",
              "      <td>0.0</td>\n",
              "    </tr>\n",
              "    <tr>\n",
              "      <th>4</th>\n",
              "      <td>5</td>\n",
              "      <td>109</td>\n",
              "      <td>2900</td>\n",
              "      <td>122.72</td>\n",
              "      <td>112.77</td>\n",
              "      <td>6</td>\n",
              "      <td>0.5263</td>\n",
              "      <td>0.3044</td>\n",
              "      <td>60.0</td>\n",
              "      <td>0.60315</td>\n",
              "      <td>0.53367</td>\n",
              "      <td>0.696150</td>\n",
              "      <td>0.71780</td>\n",
              "      <td>0.810285</td>\n",
              "      <td>0.61315</td>\n",
              "      <td>0.715869</td>\n",
              "      <td>0.37220</td>\n",
              "      <td>0.31396</td>\n",
              "      <td>0.483685</td>\n",
              "      <td>0.66275</td>\n",
              "      <td>0.779285</td>\n",
              "      <td>0.870969</td>\n",
              "      <td>4.9649</td>\n",
              "      <td>6</td>\n",
              "      <td>-0.20</td>\n",
              "      <td>-0.26</td>\n",
              "      <td>0.01</td>\n",
              "      <td>0.00</td>\n",
              "      <td>0.15</td>\n",
              "      <td>1.58</td>\n",
              "      <td>1.51</td>\n",
              "      <td>8.23</td>\n",
              "      <td>0.01</td>\n",
              "      <td>0.0</td>\n",
              "      <td>0.02</td>\n",
              "      <td>0.00</td>\n",
              "      <td>0.20</td>\n",
              "      <td>0.01</td>\n",
              "      <td>0.02</td>\n",
              "      <td>0.00</td>\n",
              "      <td>...</td>\n",
              "      <td>18.154</td>\n",
              "      <td>0.678565</td>\n",
              "      <td>0.625417</td>\n",
              "      <td>0.747705</td>\n",
              "      <td>1.37</td>\n",
              "      <td>1281.0</td>\n",
              "      <td>24.0</td>\n",
              "      <td>70703.0</td>\n",
              "      <td>381</td>\n",
              "      <td>33</td>\n",
              "      <td>9.0</td>\n",
              "      <td>0.82</td>\n",
              "      <td>0.0</td>\n",
              "      <td>0.230740</td>\n",
              "      <td>52838</td>\n",
              "      <td>0.826984</td>\n",
              "      <td>3415</td>\n",
              "      <td>434277</td>\n",
              "      <td>55511449</td>\n",
              "      <td>7130863233</td>\n",
              "      <td>-17.48</td>\n",
              "      <td>1</td>\n",
              "      <td>-3.91</td>\n",
              "      <td>-13.762</td>\n",
              "      <td>11.45</td>\n",
              "      <td>2206.14</td>\n",
              "      <td>6.2262</td>\n",
              "      <td>3.1446</td>\n",
              "      <td>1.6149</td>\n",
              "      <td>-0.18</td>\n",
              "      <td>-0.280</td>\n",
              "      <td>-0.182</td>\n",
              "      <td>-11.12</td>\n",
              "      <td>6.11</td>\n",
              "      <td>-3.82</td>\n",
              "      <td>2.51</td>\n",
              "      <td>0.2282</td>\n",
              "      <td>-0.5399</td>\n",
              "      <td>0</td>\n",
              "      <td>0.0</td>\n",
              "    </tr>\n",
              "  </tbody>\n",
              "</table>\n",
              "<p>5 rows × 139 columns</p>\n",
              "</div>"
            ],
            "text/plain": [
              "   id   f1    f4      f9     f10  f13  ...  f772  f773    f774    f775  f776  loss\n",
              "0   1  126  1100  126.75  126.03    7  ... -1.54  1.18  0.1833  0.7873     1   0.0\n",
              "1   2  121  1100  123.52  121.35    7  ... -0.24  0.13  0.1926 -0.6787     1   0.0\n",
              "2   3  126  1100  127.76  126.49    7  ... -1.73  1.04  0.2521  0.7258     1   0.0\n",
              "3   4  134  1100  132.94  133.58    7  ... -0.89  0.66  0.2498  0.7119     1   0.0\n",
              "4   5  109  2900  122.72  112.77    6  ... -3.82  2.51  0.2282 -0.5399     0   0.0\n",
              "\n",
              "[5 rows x 139 columns]"
            ]
          },
          "metadata": {
            "tags": []
          },
          "execution_count": 52
        }
      ]
    },
    {
      "cell_type": "markdown",
      "metadata": {
        "id": "HZ3BSzCHFiK0"
      },
      "source": [
        "# 4. Model development"
      ]
    },
    {
      "cell_type": "markdown",
      "metadata": {
        "id": "88EtYClDMlMG"
      },
      "source": [
        "## 4.1 Dataset splitting and dataset development to fit in the model"
      ]
    },
    {
      "cell_type": "code",
      "metadata": {
        "colab": {
          "base_uri": "https://localhost:8080/"
        },
        "id": "-JNRjZ9HD3yC",
        "outputId": "8b671d8f-4a4e-4025-dd8c-9d8ef6d2bb59"
      },
      "source": [
        "temp = train[train['loss'].notnull()]\r\n",
        "test = train[train['loss'].isnull()]\r\n",
        "train = temp\r\n",
        "temp = None\r\n",
        "X,y = train.drop(['loss'],axis=1),train['loss'].values\r\n",
        "\r\n",
        "X.shape, y.shape, train.shape, test.shape"
      ],
      "execution_count": 54,
      "outputs": [
        {
          "output_type": "execute_result",
          "data": {
            "text/plain": [
              "((105471, 138), (105471,), (105471, 139), (210944, 139))"
            ]
          },
          "metadata": {
            "tags": []
          },
          "execution_count": 54
        }
      ]
    },
    {
      "cell_type": "code",
      "metadata": {
        "colab": {
          "base_uri": "https://localhost:8080/"
        },
        "id": "3zgmWi81FmqR",
        "outputId": "ed9fc480-a8b9-497e-c04b-3bd1398feca7"
      },
      "source": [
        "from sklearn.model_selection import train_test_split\r\n",
        "X_train, X_test, y_train, y_test = train_test_split(X, y, test_size=0.20, random_state=42)\r\n",
        "X_train, X_val, y_train, y_val = train_test_split(X_train, y_train, test_size=0.20, random_state=42)\r\n",
        "\r\n",
        "X_train.shape, X_test.shape, X_val.shape"
      ],
      "execution_count": 63,
      "outputs": [
        {
          "output_type": "execute_result",
          "data": {
            "text/plain": [
              "((67500, 138), (21095, 138), (16876, 138))"
            ]
          },
          "metadata": {
            "tags": []
          },
          "execution_count": 63
        }
      ]
    },
    {
      "cell_type": "markdown",
      "metadata": {
        "id": "9WpeHKOgM0o1"
      },
      "source": [
        "## 4.2 Model Training"
      ]
    },
    {
      "cell_type": "code",
      "metadata": {
        "colab": {
          "base_uri": "https://localhost:8080/"
        },
        "id": "NXUlRB6FF6qN",
        "outputId": "78c6345b-86c7-4d2a-987c-447aefb84c61"
      },
      "source": [
        "import time\r\n",
        "from xgboost import XGBRegressor\r\n",
        "ts = time.time()\r\n",
        "\r\n",
        "model = XGBRegressor(\r\n",
        "    max_depth=10,\r\n",
        "    n_estimators=1000,\r\n",
        "    min_child_weight=0.5, \r\n",
        "    colsample_bytree=0.8, \r\n",
        "    subsample=0.8, \r\n",
        "    eta=0.1,\r\n",
        "    seed=42)\r\n",
        "\r\n",
        "model.fit(\r\n",
        "    X_train, \r\n",
        "    y_train, \r\n",
        "    eval_metric=\"mae\", \r\n",
        "    eval_set=[(X_train, y_train), (X_val, y_val)], \r\n",
        "    verbose=True, \r\n",
        "    early_stopping_rounds = 20)\r\n",
        "\r\n",
        "time.time() - ts\r\n"
      ],
      "execution_count": 78,
      "outputs": [
        {
          "output_type": "stream",
          "text": [
            "[10:16:42] WARNING: /workspace/src/objective/regression_obj.cu:152: reg:linear is now deprecated in favor of reg:squarederror.\n",
            "[0]\tvalidation_0-mae:1.22027\tvalidation_1-mae:1.24198\n",
            "Multiple eval metrics have been passed: 'validation_1-mae' will be used for early stopping.\n",
            "\n",
            "Will train until validation_1-mae hasn't improved in 20 rounds.\n",
            "[1]\tvalidation_0-mae:1.23692\tvalidation_1-mae:1.26157\n",
            "[2]\tvalidation_0-mae:1.24949\tvalidation_1-mae:1.27969\n",
            "[3]\tvalidation_0-mae:1.25911\tvalidation_1-mae:1.29382\n",
            "[4]\tvalidation_0-mae:1.26976\tvalidation_1-mae:1.30873\n",
            "[5]\tvalidation_0-mae:1.27938\tvalidation_1-mae:1.3233\n",
            "[6]\tvalidation_0-mae:1.28735\tvalidation_1-mae:1.33671\n",
            "[7]\tvalidation_0-mae:1.29166\tvalidation_1-mae:1.34969\n",
            "[8]\tvalidation_0-mae:1.29893\tvalidation_1-mae:1.36119\n",
            "[9]\tvalidation_0-mae:1.30197\tvalidation_1-mae:1.36939\n",
            "[10]\tvalidation_0-mae:1.30566\tvalidation_1-mae:1.37646\n",
            "[11]\tvalidation_0-mae:1.30868\tvalidation_1-mae:1.385\n",
            "[12]\tvalidation_0-mae:1.3106\tvalidation_1-mae:1.39067\n",
            "[13]\tvalidation_0-mae:1.31412\tvalidation_1-mae:1.3983\n",
            "[14]\tvalidation_0-mae:1.31582\tvalidation_1-mae:1.40412\n",
            "[15]\tvalidation_0-mae:1.31664\tvalidation_1-mae:1.40953\n",
            "[16]\tvalidation_0-mae:1.31723\tvalidation_1-mae:1.41368\n",
            "[17]\tvalidation_0-mae:1.31536\tvalidation_1-mae:1.42016\n",
            "[18]\tvalidation_0-mae:1.31735\tvalidation_1-mae:1.426\n",
            "[19]\tvalidation_0-mae:1.31725\tvalidation_1-mae:1.42827\n",
            "[20]\tvalidation_0-mae:1.31698\tvalidation_1-mae:1.43011\n",
            "Stopping. Best iteration:\n",
            "[0]\tvalidation_0-mae:1.22027\tvalidation_1-mae:1.24198\n",
            "\n"
          ],
          "name": "stdout"
        },
        {
          "output_type": "execute_result",
          "data": {
            "text/plain": [
              "27.574599504470825"
            ]
          },
          "metadata": {
            "tags": []
          },
          "execution_count": 78
        }
      ]
    },
    {
      "cell_type": "markdown",
      "metadata": {
        "id": "r82A11tqM8XF"
      },
      "source": [
        "# 5. Evaluation and Generating submission dataset"
      ]
    },
    {
      "cell_type": "code",
      "metadata": {
        "id": "VRDEdBneJZU9"
      },
      "source": [
        "test = test.drop(['loss'], axis = 1)\r\n",
        "pred = model.predict(test)"
      ],
      "execution_count": 67,
      "outputs": []
    },
    {
      "cell_type": "code",
      "metadata": {
        "id": "ojugOkwzHsUv"
      },
      "source": [
        "sub = pd.DataFrame()\r\n",
        "\r\n",
        "sub['id'] = test['id']\r\n",
        "sub['loss'] = pred"
      ],
      "execution_count": 68,
      "outputs": []
    },
    {
      "cell_type": "code",
      "metadata": {
        "colab": {
          "base_uri": "https://localhost:8080/",
          "height": 202
        },
        "id": "ChYfDNzgJwpn",
        "outputId": "5b9694eb-da5b-46f7-ef16-c018196e3561"
      },
      "source": [
        "sub.head(5)"
      ],
      "execution_count": 69,
      "outputs": [
        {
          "output_type": "execute_result",
          "data": {
            "text/html": [
              "<div>\n",
              "<style scoped>\n",
              "    .dataframe tbody tr th:only-of-type {\n",
              "        vertical-align: middle;\n",
              "    }\n",
              "\n",
              "    .dataframe tbody tr th {\n",
              "        vertical-align: top;\n",
              "    }\n",
              "\n",
              "    .dataframe thead th {\n",
              "        text-align: right;\n",
              "    }\n",
              "</style>\n",
              "<table border=\"1\" class=\"dataframe\">\n",
              "  <thead>\n",
              "    <tr style=\"text-align: right;\">\n",
              "      <th></th>\n",
              "      <th>id</th>\n",
              "      <th>loss</th>\n",
              "    </tr>\n",
              "  </thead>\n",
              "  <tbody>\n",
              "    <tr>\n",
              "      <th>0</th>\n",
              "      <td>105472</td>\n",
              "      <td>1.012652</td>\n",
              "    </tr>\n",
              "    <tr>\n",
              "      <th>1</th>\n",
              "      <td>105473</td>\n",
              "      <td>0.729677</td>\n",
              "    </tr>\n",
              "    <tr>\n",
              "      <th>2</th>\n",
              "      <td>105474</td>\n",
              "      <td>0.590680</td>\n",
              "    </tr>\n",
              "    <tr>\n",
              "      <th>3</th>\n",
              "      <td>105475</td>\n",
              "      <td>0.506333</td>\n",
              "    </tr>\n",
              "    <tr>\n",
              "      <th>4</th>\n",
              "      <td>105476</td>\n",
              "      <td>0.928455</td>\n",
              "    </tr>\n",
              "  </tbody>\n",
              "</table>\n",
              "</div>"
            ],
            "text/plain": [
              "       id      loss\n",
              "0  105472  1.012652\n",
              "1  105473  0.729677\n",
              "2  105474  0.590680\n",
              "3  105475  0.506333\n",
              "4  105476  0.928455"
            ]
          },
          "metadata": {
            "tags": []
          },
          "execution_count": 69
        }
      ]
    },
    {
      "cell_type": "code",
      "metadata": {
        "id": "-edS9DylJyPo"
      },
      "source": [
        "sub.to_csv('submission.csv', index = False)"
      ],
      "execution_count": 70,
      "outputs": []
    }
  ]
}